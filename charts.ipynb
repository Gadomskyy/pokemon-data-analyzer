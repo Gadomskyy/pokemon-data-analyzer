{
 "cells": [
  {
   "cell_type": "code",
   "execution_count": 2,
   "id": "dc63a152",
   "metadata": {},
   "outputs": [],
   "source": [
    "import pandas as pd\n",
    "import seaborn as sns"
   ]
  },
  {
   "cell_type": "code",
   "execution_count": 5,
   "id": "37d63d7f",
   "metadata": {},
   "outputs": [],
   "source": [
    "df = pd.read_excel('result.xlsx', index_col = 0)"
   ]
  },
  {
   "cell_type": "code",
   "execution_count": 6,
   "id": "e98fd6b4",
   "metadata": {
    "scrolled": true
   },
   "outputs": [
    {
     "data": {
      "text/plain": [
       "<bound method NDFrame.head of               name  height  weight   hp  attack  defense  special-attack  \\\n",
       "id                                                                         \n",
       "1        bulbasaur       7      69   45      49       49              65   \n",
       "2          ivysaur      10     130   60      62       63              80   \n",
       "3         venusaur      20    1000   80      82       83             100   \n",
       "4       charmander       6      85   39      52       43              60   \n",
       "5       charmeleon      11     190   58      64       58              80   \n",
       "...            ...     ...     ...  ...     ...      ...             ...   \n",
       "1021   raging-bolt      52    4800  125      73       91             137   \n",
       "1022  iron-boulder      15    1625   90     120       80              68   \n",
       "1023    iron-crown      16    1560   90      72      100             122   \n",
       "1024     terapagos       2      65   90      65       85              65   \n",
       "1025     pecharunt       3       3   88      88      160              88   \n",
       "\n",
       "      special-defense  speed                    abilities  \\\n",
       "id                                                          \n",
       "1                  65     45  ['overgrow', 'chlorophyll']   \n",
       "2                  80     60  ['overgrow', 'chlorophyll']   \n",
       "3                 100     80  ['overgrow', 'chlorophyll']   \n",
       "4                  50     65     ['blaze', 'solar-power']   \n",
       "5                  65     80     ['blaze', 'solar-power']   \n",
       "...               ...    ...                          ...   \n",
       "1021               89     75           ['protosynthesis']   \n",
       "1022              108    124              ['quark-drive']   \n",
       "1023              108     98              ['quark-drive']   \n",
       "1024               85     60               ['tera-shift']   \n",
       "1025               88     88         ['poison-puppeteer']   \n",
       "\n",
       "                       types  \\\n",
       "id                             \n",
       "1        ['grass', 'poison']   \n",
       "2        ['grass', 'poison']   \n",
       "3        ['grass', 'poison']   \n",
       "4                   ['fire']   \n",
       "5                   ['fire']   \n",
       "...                      ...   \n",
       "1021  ['electric', 'dragon']   \n",
       "1022     ['rock', 'psychic']   \n",
       "1023    ['steel', 'psychic']   \n",
       "1024              ['normal']   \n",
       "1025     ['poison', 'ghost']   \n",
       "\n",
       "                                                  moves             forms  \n",
       "id                                                                         \n",
       "1     ['razor-wind', 'swords-dance', 'cut', 'bind', ...     ['bulbasaur']  \n",
       "2     ['swords-dance', 'cut', 'bind', 'vine-whip', '...       ['ivysaur']  \n",
       "3     ['swords-dance', 'cut', 'bind', 'vine-whip', '...      ['venusaur']  \n",
       "4     ['mega-punch', 'fire-punch', 'thunder-punch', ...    ['charmander']  \n",
       "5     ['mega-punch', 'fire-punch', 'thunder-punch', ...    ['charmeleon']  \n",
       "...                                                 ...               ...  \n",
       "1021  ['stomp', 'body-slam', 'take-down', 'double-ed...   ['raging-bolt']  \n",
       "1022  ['swords-dance', 'horn-attack', 'body-slam', '...  ['iron-boulder']  \n",
       "1023  ['swords-dance', 'body-slam', 'take-down', 'do...    ['iron-crown']  \n",
       "1024  ['headbutt', 'body-slam', 'take-down', 'double...     ['terapagos']  \n",
       "1025  ['toxic', 'night-shade', 'recover', 'withdraw'...     ['pecharunt']  \n",
       "\n",
       "[1025 rows x 13 columns]>"
      ]
     },
     "execution_count": 6,
     "metadata": {},
     "output_type": "execute_result"
    }
   ],
   "source": [
    "df.head"
   ]
  },
  {
   "cell_type": "code",
   "execution_count": null,
   "id": "668e433b",
   "metadata": {},
   "outputs": [],
   "source": [
    "#Scatterplot weight x height"
   ]
  },
  {
   "cell_type": "code",
   "execution_count": 26,
   "id": "0150c528",
   "metadata": {
    "scrolled": false
   },
   "outputs": [
    {
     "data": {
      "text/plain": [
       "<Axes: xlabel='weight', ylabel='height'>"
      ]
     },
     "execution_count": 26,
     "metadata": {},
     "output_type": "execute_result"
    },
    {
     "data": {
      "image/png": "[encoded data removed]",
      "text/plain": [
       "<Figure size 640x480 with 1 Axes>"
      ]
     },
     "metadata": {},
     "output_type": "display_data"
    }
   ],
   "source": [
    "sns.regplot(data=df, x='weight', y='height',\n",
    "           marker='o', color='g', scatter_kws={'s':1},\n",
    "           line_kws=dict(color='r'))"
   ]
  },
  {
   "cell_type": "code",
   "execution_count": null,
   "id": "ee4d8468",
   "metadata": {},
   "outputs": [],
   "source": [
    "#Bar chart pokemon types"
   ]
  },
  {
   "cell_type": "code",
   "execution_count": null,
   "id": "b607bbff",
   "metadata": {},
   "outputs": [],
   "source": []
  },
  {
   "cell_type": "code",
   "execution_count": null,
   "id": "0989d487",
   "metadata": {},
   "outputs": [],
   "source": [
    "#Boxplot size by type"
   ]
  },
  {
   "cell_type": "code",
   "execution_count": null,
   "id": "29181219",
   "metadata": {},
   "outputs": [],
   "source": []
  },
  {
   "cell_type": "code",
   "execution_count": null,
   "id": "533574f4",
   "metadata": {},
   "outputs": [],
   "source": [
    "#Boxplot weight by type"
   ]
  },
  {
   "cell_type": "code",
   "execution_count": null,
   "id": "ffb2c44d",
   "metadata": {},
   "outputs": [],
   "source": []
  },
  {
   "cell_type": "code",
   "execution_count": null,
   "id": "df3b9f6e",
   "metadata": {},
   "outputs": [],
   "source": [
    "#Number of moves per type"
   ]
  },
  {
   "cell_type": "code",
   "execution_count": null,
   "id": "f9ded957",
   "metadata": {},
   "outputs": [],
   "source": []
  },
  {
   "cell_type": "code",
   "execution_count": null,
   "id": "2e7b80e8",
   "metadata": {},
   "outputs": [],
   "source": [
    "#Average stats per generation"
   ]
  },
  {
   "cell_type": "code",
   "execution_count": null,
   "id": "dae5015b",
   "metadata": {},
   "outputs": [],
   "source": []
  },
  {
   "cell_type": "code",
   "execution_count": null,
   "id": "7b7a1305",
   "metadata": {},
   "outputs": [],
   "source": [
    "#Type effectiveness heatmap"
   ]
  },
  {
   "cell_type": "code",
   "execution_count": null,
   "id": "c9274cfb",
   "metadata": {},
   "outputs": [],
   "source": []
  },
  {
   "cell_type": "code",
   "execution_count": null,
   "id": "444c3484",
   "metadata": {},
   "outputs": [],
   "source": []
  },
  {
   "cell_type": "code",
   "execution_count": null,
   "id": "24d111b5",
   "metadata": {},
   "outputs": [],
   "source": []
  },
  {
   "cell_type": "code",
   "execution_count": null,
   "id": "44926558",
   "metadata": {},
   "outputs": [],
   "source": []
  },
  {
   "cell_type": "code",
   "execution_count": null,
   "id": "d3531012",
   "metadata": {},
   "outputs": [],
   "source": []
  }
 ],
 "metadata": {
  "kernelspec": {
   "display_name": "Python 3 (ipykernel)",
   "language": "python",
   "name": "python3"
  },
  "language_info": {
   "codemirror_mode": {
    "name": "ipython",
    "version": 3
   },
   "file_extension": ".py",
   "mimetype": "text/x-python",
   "name": "python",
   "nbconvert_exporter": "python",
   "pygments_lexer": "ipython3",
   "version": "3.10.4"
  }
 },
 "nbformat": 4,
 "nbformat_minor": 5
}
