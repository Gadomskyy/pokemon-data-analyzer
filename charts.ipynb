{
 "cells": [
  {
   "cell_type": "code",
   "execution_count": 70,
   "id": "dc63a152",
   "metadata": {},
   "outputs": [],
   "source": [
    "import pandas as pd\n",
    "import seaborn as sns"
   ]
  },
  {
   "cell_type": "code",
   "execution_count": 83,
   "id": "37d63d7f",
   "metadata": {},
   "outputs": [],
   "source": [
    "df = pd.read_csv('result.csv', index_col = 0)"
   ]
  },
  {
   "cell_type": "code",
   "execution_count": 84,
   "id": "e98fd6b4",
   "metadata": {
    "scrolled": true
   },
   "outputs": [
    {
     "data": {
      "text/plain": [
       "<bound method NDFrame.head of               name  height  weight  generation  \\\n",
       "id                                               \n",
       "1        bulbasaur       7      69           1   \n",
       "2          ivysaur      10     130           1   \n",
       "3         venusaur      20    1000           1   \n",
       "4       charmander       6      85           1   \n",
       "5       charmeleon      11     190           1   \n",
       "...            ...     ...     ...         ...   \n",
       "1021   raging-bolt      52    4800           9   \n",
       "1022  iron-boulder      15    1625           9   \n",
       "1023    iron-crown      16    1560           9   \n",
       "1024     terapagos       2      65           9   \n",
       "1025     pecharunt       3       3           9   \n",
       "\n",
       "                                                  moves             forms  \\\n",
       "id                                                                          \n",
       "1     ['razor-wind', 'swords-dance', 'cut', 'bind', ...     ['bulbasaur']   \n",
       "2     ['swords-dance', 'cut', 'bind', 'vine-whip', '...       ['ivysaur']   \n",
       "3     ['swords-dance', 'cut', 'bind', 'vine-whip', '...      ['venusaur']   \n",
       "4     ['mega-punch', 'fire-punch', 'thunder-punch', ...    ['charmander']   \n",
       "5     ['mega-punch', 'fire-punch', 'thunder-punch', ...    ['charmeleon']   \n",
       "...                                                 ...               ...   \n",
       "1021  ['stomp', 'body-slam', 'take-down', 'double-ed...   ['raging-bolt']   \n",
       "1022  ['swords-dance', 'horn-attack', 'body-slam', '...  ['iron-boulder']   \n",
       "1023  ['swords-dance', 'body-slam', 'take-down', 'do...    ['iron-crown']   \n",
       "1024  ['headbutt', 'body-slam', 'take-down', 'double...     ['terapagos']   \n",
       "1025  ['toxic', 'night-shade', 'recover', 'withdraw'...     ['pecharunt']   \n",
       "\n",
       "       hp  attack  defense  special-attack  special-defense  speed  \\\n",
       "id                                                                   \n",
       "1      45      49       49              65               65     45   \n",
       "2      60      62       63              80               80     60   \n",
       "3      80      82       83             100              100     80   \n",
       "4      39      52       43              60               50     65   \n",
       "5      58      64       58              80               65     80   \n",
       "...   ...     ...      ...             ...              ...    ...   \n",
       "1021  125      73       91             137               89     75   \n",
       "1022   90     120       80              68              108    124   \n",
       "1023   90      72      100             122              108     98   \n",
       "1024   90      65       85              65               85     60   \n",
       "1025   88      88      160              88               88     88   \n",
       "\n",
       "                        abilities                   types  \n",
       "id                                                         \n",
       "1     ['overgrow', 'chlorophyll']     ['grass', 'poison']  \n",
       "2     ['overgrow', 'chlorophyll']     ['grass', 'poison']  \n",
       "3     ['overgrow', 'chlorophyll']     ['grass', 'poison']  \n",
       "4        ['blaze', 'solar-power']                ['fire']  \n",
       "5        ['blaze', 'solar-power']                ['fire']  \n",
       "...                           ...                     ...  \n",
       "1021           ['protosynthesis']  ['electric', 'dragon']  \n",
       "1022              ['quark-drive']     ['rock', 'psychic']  \n",
       "1023              ['quark-drive']    ['steel', 'psychic']  \n",
       "1024               ['tera-shift']              ['normal']  \n",
       "1025         ['poison-puppeteer']     ['poison', 'ghost']  \n",
       "\n",
       "[1025 rows x 14 columns]>"
      ]
     },
     "execution_count": 84,
     "metadata": {},
     "output_type": "execute_result"
    }
   ],
   "source": [
    "df.head"
   ]
  },
  {
   "cell_type": "code",
   "execution_count": 5,
   "id": "668e433b",
   "metadata": {},
   "outputs": [],
   "source": [
    "#Scatterplot weight x height"
   ]
  },
  {
   "cell_type": "code",
   "execution_count": 85,
   "id": "0150c528",
   "metadata": {
    "scrolled": false
   },
   "outputs": [
    {
     "data": {
      "text/plain": [
       "<Axes: xlabel='weight', ylabel='height'>"
      ]
     },
     "execution_count": 85,
     "metadata": {},
     "output_type": "execute_result"
    },
    {
     "data": {
      "image/png": "[encoded data removed]",
      "text/plain": [
       "<Figure size 640x480 with 1 Axes>"
      ]
     },
     "metadata": {},
     "output_type": "display_data"
    }
   ],
   "source": [
    "sns.regplot(data=df, x='weight', y='height',\n",
    "           marker='o', color='g', scatter_kws={'s':1},\n",
    "           line_kws=dict(color='r'))"
   ]
  },
  {
   "cell_type": "code",
   "execution_count": 7,
   "id": "ee4d8468",
   "metadata": {},
   "outputs": [],
   "source": [
    "#Bar chart pokemon types"
   ]
  },
  {
   "cell_type": "code",
   "execution_count": null,
   "id": "b607bbff",
   "metadata": {},
   "outputs": [],
   "source": []
  },
  {
   "cell_type": "code",
   "execution_count": 8,
   "id": "0989d487",
   "metadata": {},
   "outputs": [],
   "source": [
    "#Boxplot size by type"
   ]
  },
  {
   "cell_type": "code",
   "execution_count": null,
   "id": "29181219",
   "metadata": {},
   "outputs": [],
   "source": []
  },
  {
   "cell_type": "code",
   "execution_count": 9,
   "id": "533574f4",
   "metadata": {},
   "outputs": [],
   "source": [
    "#Boxplot weight by type"
   ]
  },
  {
   "cell_type": "code",
   "execution_count": null,
   "id": "ffb2c44d",
   "metadata": {},
   "outputs": [],
   "source": []
  },
  {
   "cell_type": "code",
   "execution_count": 10,
   "id": "df3b9f6e",
   "metadata": {},
   "outputs": [],
   "source": [
    "#Number of moves per type"
   ]
  },
  {
   "cell_type": "code",
   "execution_count": null,
   "id": "f9ded957",
   "metadata": {},
   "outputs": [],
   "source": []
  },
  {
   "cell_type": "code",
   "execution_count": 11,
   "id": "2e7b80e8",
   "metadata": {},
   "outputs": [],
   "source": [
    "#Average stats per generation"
   ]
  },
  {
   "cell_type": "code",
   "execution_count": null,
   "id": "dae5015b",
   "metadata": {},
   "outputs": [],
   "source": []
  },
  {
   "cell_type": "code",
   "execution_count": 12,
   "id": "7b7a1305",
   "metadata": {},
   "outputs": [],
   "source": [
    "#Type effectiveness heatmap"
   ]
  },
  {
   "cell_type": "code",
   "execution_count": null,
   "id": "c9274cfb",
   "metadata": {},
   "outputs": [],
   "source": []
  },
  {
   "cell_type": "code",
   "execution_count": 13,
   "id": "444c3484",
   "metadata": {},
   "outputs": [],
   "source": [
    "#Stats correlation heatmap"
   ]
  },
  {
   "cell_type": "code",
   "execution_count": null,
   "id": "24d111b5",
   "metadata": {},
   "outputs": [],
   "source": []
  },
  {
   "cell_type": "code",
   "execution_count": null,
   "id": "44926558",
   "metadata": {},
   "outputs": [],
   "source": [
    "#Amount of abilities"
   ]
  },
  {
   "cell_type": "code",
   "execution_count": 88,
   "id": "d3531012",
   "metadata": {},
   "outputs": [],
   "source": [
    "len_df = df.copy()\n",
    "len_df['abilities'] = len_df['abilities'].apply(eval)\n",
    "len_df['abilities_count'] = len_df.abilities.map(len)"
   ]
  },
  {
   "cell_type": "code",
   "execution_count": 98,
   "id": "7cc6060a",
   "metadata": {},
   "outputs": [
    {
     "data": {
      "text/plain": [
       "[Text(0, 0, '141'), Text(0, 0, '354'), Text(0, 0, '530')]"
      ]
     },
     "execution_count": 98,
     "metadata": {},
     "output_type": "execute_result"
    },
    {
     "data": {
      "image/png": "[encoded data removed]",
      "text/plain": [
       "<Figure size 640x480 with 1 Axes>"
      ]
     },
     "metadata": {},
     "output_type": "display_data"
    }
   ],
   "source": [
    "ax = sns.countplot(data=len_df, x='abilities_count', palette='blend:#7AB,#EDA')\n",
    "ax.bar_label(ax.containers[0])"
   ]
  },
  {
   "cell_type": "code",
   "execution_count": null,
   "id": "6a9ea0cb",
   "metadata": {},
   "outputs": [],
   "source": []
  }
 ],
 "metadata": {
  "kernelspec": {
   "display_name": "Python 3 (ipykernel)",
   "language": "python",
   "name": "python3"
  },
  "language_info": {
   "codemirror_mode": {
    "name": "ipython",
    "version": 3
   },
   "file_extension": ".py",
   "mimetype": "text/x-python",
   "name": "python",
   "nbconvert_exporter": "python",
   "pygments_lexer": "ipython3",
   "version": "3.10.4"
  }
 },
 "nbformat": 4,
 "nbformat_minor": 5
}
